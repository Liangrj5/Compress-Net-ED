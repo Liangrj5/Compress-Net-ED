{
 "cells": [
  {
   "cell_type": "code",
   "execution_count": 1,
   "metadata": {},
   "outputs": [],
   "source": [
    "import tensorflow as tf\n",
    "import numpy as np\n",
    "import sys\n",
    "import torch\n",
    "import torch.nn as nn\n",
    "import torch.nn.functional as F\n",
    "# tf.compat.v1.enable_eager_execution()\n"
   ]
  },
  {
   "cell_type": "code",
   "execution_count": null,
   "metadata": {},
   "outputs": [],
   "source": [
    "a = np.random.rand(10,1)\n",
    "a = tf.constant(a , dtype = tf.float32)\n",
    "t= tf.less(a, 0.5)\n",
    "t = tf.cast(t, tf.float32)\n",
    "c = t * a"
   ]
  },
  {
   "cell_type": "code",
   "execution_count": null,
   "metadata": {},
   "outputs": [],
   "source": [
    "with tf.Session() as sess:\n",
    "    print(sess.run(c))"
   ]
  },
  {
   "cell_type": "code",
   "execution_count": 8,
   "metadata": {},
   "outputs": [],
   "source": [
    "def relu(x):  # pylint: disable=unused-argument\n",
    "\n",
    "\n",
    "    w0 = 0.44015372000819103\n",
    "    w1 = 0.500000000\n",
    "    w2 = 0.11217537671414643\n",
    "    w4 = -0.0013660836712429923\n",
    "    w6 = 9.009136367360004e-06\n",
    "    w8 = -2.1097433984e-08\n",
    "\n",
    "\n",
    "\n",
    "    x1 = x\n",
    "    x2 = np.sqrt(x)\n",
    "    x4 = x2 * x2\n",
    "    x6 = x2 * x4\n",
    "    x8 = x2 * x6\n",
    "\n",
    "    y1 = x1 * w1\n",
    "    y2 = x2 * w2\n",
    "    y4 = x4 * w4\n",
    "    y6 = x6 * w6\n",
    "    y8 = x8 * w8\n",
    "\n",
    "    z = y8 + y6 + y4 + y2 + y1 + w0\n",
    "\n",
    "    return z\n"
   ]
  },
  {
   "cell_type": "code",
   "execution_count": null,
   "metadata": {
    "scrolled": true
   },
   "outputs": [],
   "source": [
    "tf.set_random_seed(0)\n",
    "a = tf.random_normal(shape=(1,10))"
   ]
  },
  {
   "cell_type": "code",
   "execution_count": 2,
   "metadata": {},
   "outputs": [
    {
     "name": "stdout",
     "output_type": "stream",
     "text": [
      "[[-1.4095545  -0.5366828  -0.5652379   0.526246   -0.11131065  0.26350743\n",
      "   0.80647576 -0.886015   -0.04653838  1.073006  ]]\n"
     ]
    }
   ],
   "source": [
    "tf.set_random_seed(0)\n",
    "a = tf.random_normal(shape=(1,10))\n",
    "with tf.Session() as sess:\n",
    "    array = a.eval(session = sess)\n",
    "    print(array)"
   ]
  },
  {
   "cell_type": "code",
   "execution_count": 4,
   "metadata": {},
   "outputs": [
    {
     "data": {
      "text/plain": [
       "array([ 1.53680841,  0.45054108, -0.80719403])"
      ]
     },
     "execution_count": 4,
     "metadata": {},
     "output_type": "execute_result"
    }
   ],
   "source": [
    "a = np.array([1.5368084133516233, 0.45054107605547938, -0.80719402530102125])\n",
    "a"
   ]
  },
  {
   "cell_type": "code",
   "execution_count": 9,
   "metadata": {},
   "outputs": [
    {
     "name": "stdout",
     "output_type": "stream",
     "text": [
      "1.3455372892133615\n",
      "0.7401062578506379\n",
      "nan\n"
     ]
    },
    {
     "name": "stderr",
     "output_type": "stream",
     "text": [
      "/home/rj/anaconda3/lib/python3.7/site-packages/ipykernel_launcher.py:14: RuntimeWarning: invalid value encountered in sqrt\n",
      "  \n"
     ]
    }
   ],
   "source": [
    "for i in a:\n",
    "    print(relu(i))"
   ]
  },
  {
   "cell_type": "code",
   "execution_count": null,
   "metadata": {},
   "outputs": [],
   "source": [
    "import tensorflow as tf\n",
    "t = tf.constant([1, 2, 3, 4], tf.float32)\n",
    "session = tf.Session()\n",
    "array = t.eval(session=session)\n",
    "# 打印其数据类型与其值\n",
    "print(type(array))\n",
    "print(array)\n"
   ]
  },
  {
   "cell_type": "code",
   "execution_count": null,
   "metadata": {},
   "outputs": [],
   "source": [
    "class LeNet_5(nn.Module):\n",
    "    IMG_ROWS = 28\n",
    "    IMG_COLS = 28\n",
    "    FLATTENED_DIM = IMG_ROWS * IMG_COLS\n",
    "    def __init__(self):\n",
    "        super(LeNet_5, self).__init__()\n",
    "        self.fc1 = nn.Linear(self.FLATTENED_DIM, 512)\n",
    "        self.fc2 = nn.Linear(512, 10)\n",
    "\n",
    "    def forward(self, x):\n",
    "        # Conv1\n",
    "        x = x.reshape(-1,self.FLATTENED_DIM)\n",
    "\n",
    "        x = self.fc1(x)\n",
    "        x = F.relu(x)\n",
    "        x = self.fc2(x)\n",
    "        #x = F.relu(x)\n",
    "        #x = self.fc3(x)\n",
    "\n",
    "        return x"
   ]
  },
  {
   "cell_type": "code",
   "execution_count": null,
   "metadata": {},
   "outputs": [],
   "source": [
    "\n",
    "class LeNet_5(nn.Module):\n",
    "    IMG_ROWS = 28\n",
    "    IMG_COLS = 28\n",
    "    FLATTENED_DIM = IMG_ROWS * IMG_COLS\n",
    "    def __init__(self):\n",
    "        super(LeNet_5, self).__init__()\n",
    "        self.fc1 = nn.Linear(self.FLATTENED_DIM, 512)\n",
    "        self.fc2 = nn.Linear(512, 10)\n",
    "\n",
    "    def forward(self, x):\n",
    "        # Conv1\n",
    "        x = x.reshape(-1,self.FLATTENED_DIM)\n",
    "\n",
    "        x = self.fc1(x)\n",
    "        x = F.relu(x)\n",
    "        x = self.fc2(x)\n",
    "        #x = F.relu(x)\n",
    "        #x = self.fc3(x)\n",
    "        return x\n"
   ]
  },
  {
   "cell_type": "code",
   "execution_count": null,
   "metadata": {},
   "outputs": [],
   "source": [
    "S = LeNet_5()"
   ]
  },
  {
   "cell_type": "code",
   "execution_count": null,
   "metadata": {},
   "outputs": [],
   "source": [
    "input_ = np.random.rand(2,28*28)\n",
    "input_ = torch.from_numpy(input_)\n",
    "input_= input_.float()\n",
    "S(input_)"
   ]
  },
  {
   "cell_type": "code",
   "execution_count": null,
   "metadata": {},
   "outputs": [],
   "source": [
    "28*28"
   ]
  },
  {
   "cell_type": "code",
   "execution_count": null,
   "metadata": {},
   "outputs": [],
   "source": [
    "res = []\n",
    "for name, para in S.named_parameters():\n",
    "    print(name)\n",
    "    \n",
    "    res.append(para.detach().numpy())"
   ]
  },
  {
   "cell_type": "code",
   "execution_count": null,
   "metadata": {},
   "outputs": [],
   "source": []
  },
  {
   "cell_type": "code",
   "execution_count": null,
   "metadata": {},
   "outputs": [],
   "source": []
  },
  {
   "cell_type": "code",
   "execution_count": null,
   "metadata": {},
   "outputs": [],
   "source": [
    "np.random.seed(0)\n",
    "a1= np.random.rand(784,512) * 10\n",
    "a2= np.random.rand(512,)\n",
    "a3= np.random.rand(512,10)\n",
    "a4= np.random.rand(10,)\n",
    "a = [a1,a2,a3,a4]\n",
    "\n",
    "a = [i.astype(np.float32) for i in a]\n",
    "np.save(\"./encrypted/paramters.npy\",a)\n",
    "# b = np.load(\"paramters.npy\", allow_pickle=True)\n"
   ]
  },
  {
   "cell_type": "code",
   "execution_count": null,
   "metadata": {},
   "outputs": [],
   "source": [
    "a4= np.random.rand(10,)\n",
    "a4.astype(np.float32)\n"
   ]
  },
  {
   "cell_type": "code",
   "execution_count": null,
   "metadata": {},
   "outputs": [],
   "source": [
    "b = np.load(\"plaintext.npy\", allow_pickle=True)\n",
    "res  = []\n",
    "for i in b:\n",
    "    res.append(i)"
   ]
  },
  {
   "cell_type": "code",
   "execution_count": null,
   "metadata": {},
   "outputs": [],
   "source": [
    "b = np.load(\"plaintext.npy\", allow_pickle=True)\n",
    "w1,m1,b1,w2,m2,b2 = b"
   ]
  },
  {
   "cell_type": "code",
   "execution_count": null,
   "metadata": {},
   "outputs": [],
   "source": [
    "w1 = w1.T\n",
    "w2 = w2.T\n",
    "a = [w1,b1,w2,b2]\n",
    "np.save(\"paramters.npy\",a)\n"
   ]
  },
  {
   "cell_type": "code",
   "execution_count": null,
   "metadata": {},
   "outputs": [],
   "source": [
    "w1.shape"
   ]
  },
  {
   "cell_type": "code",
   "execution_count": null,
   "metadata": {
    "scrolled": true
   },
   "outputs": [],
   "source": [
    "\n",
    "a = tf.random_normal(shape = (10,1))\n",
    "\n",
    "with tf.Session() as sess:\n",
    "    print (sess.run(a))"
   ]
  },
  {
   "cell_type": "code",
   "execution_count": null,
   "metadata": {},
   "outputs": [],
   "source": [
    "import tensorflow as tf\n",
    "tf.compat.v1.enable_eager_execution()\n",
    "tensor = tf.range(10)\n",
    "tf.print(tensor, output_stream=sys.stderr)\n"
   ]
  },
  {
   "cell_type": "code",
   "execution_count": null,
   "metadata": {},
   "outputs": [],
   "source": [
    "\n",
    "tensor = tf.range(10)\n",
    "tf.print(tensor, output_stream=sys.stderr)\n"
   ]
  },
  {
   "cell_type": "code",
   "execution_count": null,
   "metadata": {},
   "outputs": [],
   "source": [
    "x = np.random.rand( * a.get_shape().as_list())\n",
    "tx = tf.convert_to_tensor(x)\n"
   ]
  },
  {
   "cell_type": "code",
   "execution_count": null,
   "metadata": {},
   "outputs": [],
   "source": [
    "with tf.Session() as sess:\n",
    "    print(sess.run(tx))"
   ]
  },
  {
   "cell_type": "code",
   "execution_count": null,
   "metadata": {},
   "outputs": [],
   "source": [
    "np.random.rand(([10,1]))"
   ]
  },
  {
   "cell_type": "code",
   "execution_count": null,
   "metadata": {},
   "outputs": [],
   "source": [
    "import random\n",
    "random.random()"
   ]
  },
  {
   "cell_type": "code",
   "execution_count": null,
   "metadata": {},
   "outputs": [],
   "source": [
    "a.get_shape().as_list()"
   ]
  },
  {
   "cell_type": "code",
   "execution_count": null,
   "metadata": {},
   "outputs": [],
   "source": [
    "b= tf.random_normal(shape=a.get_shape().as_list())"
   ]
  },
  {
   "cell_type": "code",
   "execution_count": null,
   "metadata": {},
   "outputs": [],
   "source": [
    "with tf.Session() as sess:\n",
    "    print(sess.run(tx))"
   ]
  },
  {
   "cell_type": "code",
   "execution_count": null,
   "metadata": {},
   "outputs": [],
   "source": [
    "x = tf.identity(a)"
   ]
  },
  {
   "cell_type": "code",
   "execution_count": null,
   "metadata": {},
   "outputs": [],
   "source": [
    "size =  a.get_shape().as_list()"
   ]
  },
  {
   "cell_type": "code",
   "execution_count": null,
   "metadata": {},
   "outputs": [],
   "source": [
    "* size"
   ]
  },
  {
   "cell_type": "code",
   "execution_count": null,
   "metadata": {},
   "outputs": [],
   "source": []
  }
 ],
 "metadata": {
  "kernelspec": {
   "display_name": "Python 3",
   "language": "python",
   "name": "python3"
  },
  "language_info": {
   "codemirror_mode": {
    "name": "ipython",
    "version": 3
   },
   "file_extension": ".py",
   "mimetype": "text/x-python",
   "name": "python",
   "nbconvert_exporter": "python",
   "pygments_lexer": "ipython3",
   "version": "3.7.3"
  }
 },
 "nbformat": 4,
 "nbformat_minor": 2
}
